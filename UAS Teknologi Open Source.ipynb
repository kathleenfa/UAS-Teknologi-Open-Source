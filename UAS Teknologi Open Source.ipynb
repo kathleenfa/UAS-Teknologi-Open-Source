{
 "cells": [
  {
   "cell_type": "markdown",
   "id": "2c14a042",
   "metadata": {},
   "source": [
    "# UAS Teknologi Open Source"
   ]
  },
  {
   "cell_type": "markdown",
   "id": "d731d21c",
   "metadata": {},
   "source": [
    "2379010 - Kathleen Felicia Annabel"
   ]
  },
  {
   "cell_type": "markdown",
   "id": "64800465",
   "metadata": {},
   "source": [
    "## Dataset"
   ]
  },
  {
   "cell_type": "markdown",
   "id": "79953a44",
   "metadata": {},
   "source": [
    "#### Importing pandas"
   ]
  },
  {
   "cell_type": "code",
   "execution_count": 1,
   "id": "ee514ff1",
   "metadata": {},
   "outputs": [],
   "source": [
    "import pandas as pd"
   ]
  },
  {
   "cell_type": "markdown",
   "id": "b3391b16",
   "metadata": {},
   "source": [
    "#### Memuat dataset sebagai pandas.DataFrame"
   ]
  },
  {
   "cell_type": "code",
   "execution_count": 2,
   "id": "3aafca2c",
   "metadata": {},
   "outputs": [
    {
     "data": {
      "text/plain": [
       "(49068, 10)"
      ]
     },
     "execution_count": 2,
     "metadata": {},
     "output_type": "execute_result"
    }
   ],
   "source": [
    "covid_df = pd.read_csv(\"./covid_19_clean_complete.csv\")\n",
    "covid_df.shape"
   ]
  },
  {
   "cell_type": "code",
   "execution_count": 3,
   "id": "c2dc2cef",
   "metadata": {
    "scrolled": false
   },
   "outputs": [
    {
     "data": {
      "text/html": [
       "<div>\n",
       "<style scoped>\n",
       "    .dataframe tbody tr th:only-of-type {\n",
       "        vertical-align: middle;\n",
       "    }\n",
       "\n",
       "    .dataframe tbody tr th {\n",
       "        vertical-align: top;\n",
       "    }\n",
       "\n",
       "    .dataframe thead th {\n",
       "        text-align: right;\n",
       "    }\n",
       "</style>\n",
       "<table border=\"1\" class=\"dataframe\">\n",
       "  <thead>\n",
       "    <tr style=\"text-align: right;\">\n",
       "      <th></th>\n",
       "      <th>Province/State</th>\n",
       "      <th>Country/Region</th>\n",
       "      <th>Lat</th>\n",
       "      <th>Long</th>\n",
       "      <th>Date</th>\n",
       "      <th>Confirmed</th>\n",
       "      <th>Deaths</th>\n",
       "      <th>Recovered</th>\n",
       "      <th>Active</th>\n",
       "      <th>WHO Region</th>\n",
       "    </tr>\n",
       "  </thead>\n",
       "  <tbody>\n",
       "    <tr>\n",
       "      <th>0</th>\n",
       "      <td>NaN</td>\n",
       "      <td>Afghanistan</td>\n",
       "      <td>33.939110</td>\n",
       "      <td>67.709953</td>\n",
       "      <td>2020-01-22</td>\n",
       "      <td>0</td>\n",
       "      <td>0</td>\n",
       "      <td>0</td>\n",
       "      <td>0</td>\n",
       "      <td>Eastern Mediterranean</td>\n",
       "    </tr>\n",
       "    <tr>\n",
       "      <th>1</th>\n",
       "      <td>NaN</td>\n",
       "      <td>Albania</td>\n",
       "      <td>41.153300</td>\n",
       "      <td>20.168300</td>\n",
       "      <td>2020-01-22</td>\n",
       "      <td>0</td>\n",
       "      <td>0</td>\n",
       "      <td>0</td>\n",
       "      <td>0</td>\n",
       "      <td>Europe</td>\n",
       "    </tr>\n",
       "    <tr>\n",
       "      <th>2</th>\n",
       "      <td>NaN</td>\n",
       "      <td>Algeria</td>\n",
       "      <td>28.033900</td>\n",
       "      <td>1.659600</td>\n",
       "      <td>2020-01-22</td>\n",
       "      <td>0</td>\n",
       "      <td>0</td>\n",
       "      <td>0</td>\n",
       "      <td>0</td>\n",
       "      <td>Africa</td>\n",
       "    </tr>\n",
       "    <tr>\n",
       "      <th>3</th>\n",
       "      <td>NaN</td>\n",
       "      <td>Andorra</td>\n",
       "      <td>42.506300</td>\n",
       "      <td>1.521800</td>\n",
       "      <td>2020-01-22</td>\n",
       "      <td>0</td>\n",
       "      <td>0</td>\n",
       "      <td>0</td>\n",
       "      <td>0</td>\n",
       "      <td>Europe</td>\n",
       "    </tr>\n",
       "    <tr>\n",
       "      <th>4</th>\n",
       "      <td>NaN</td>\n",
       "      <td>Angola</td>\n",
       "      <td>-11.202700</td>\n",
       "      <td>17.873900</td>\n",
       "      <td>2020-01-22</td>\n",
       "      <td>0</td>\n",
       "      <td>0</td>\n",
       "      <td>0</td>\n",
       "      <td>0</td>\n",
       "      <td>Africa</td>\n",
       "    </tr>\n",
       "    <tr>\n",
       "      <th>...</th>\n",
       "      <td>...</td>\n",
       "      <td>...</td>\n",
       "      <td>...</td>\n",
       "      <td>...</td>\n",
       "      <td>...</td>\n",
       "      <td>...</td>\n",
       "      <td>...</td>\n",
       "      <td>...</td>\n",
       "      <td>...</td>\n",
       "      <td>...</td>\n",
       "    </tr>\n",
       "    <tr>\n",
       "      <th>49063</th>\n",
       "      <td>NaN</td>\n",
       "      <td>Sao Tome and Principe</td>\n",
       "      <td>0.186400</td>\n",
       "      <td>6.613100</td>\n",
       "      <td>2020-07-27</td>\n",
       "      <td>865</td>\n",
       "      <td>14</td>\n",
       "      <td>734</td>\n",
       "      <td>117</td>\n",
       "      <td>Africa</td>\n",
       "    </tr>\n",
       "    <tr>\n",
       "      <th>49064</th>\n",
       "      <td>NaN</td>\n",
       "      <td>Yemen</td>\n",
       "      <td>15.552727</td>\n",
       "      <td>48.516388</td>\n",
       "      <td>2020-07-27</td>\n",
       "      <td>1691</td>\n",
       "      <td>483</td>\n",
       "      <td>833</td>\n",
       "      <td>375</td>\n",
       "      <td>Eastern Mediterranean</td>\n",
       "    </tr>\n",
       "    <tr>\n",
       "      <th>49065</th>\n",
       "      <td>NaN</td>\n",
       "      <td>Comoros</td>\n",
       "      <td>-11.645500</td>\n",
       "      <td>43.333300</td>\n",
       "      <td>2020-07-27</td>\n",
       "      <td>354</td>\n",
       "      <td>7</td>\n",
       "      <td>328</td>\n",
       "      <td>19</td>\n",
       "      <td>Africa</td>\n",
       "    </tr>\n",
       "    <tr>\n",
       "      <th>49066</th>\n",
       "      <td>NaN</td>\n",
       "      <td>Tajikistan</td>\n",
       "      <td>38.861000</td>\n",
       "      <td>71.276100</td>\n",
       "      <td>2020-07-27</td>\n",
       "      <td>7235</td>\n",
       "      <td>60</td>\n",
       "      <td>6028</td>\n",
       "      <td>1147</td>\n",
       "      <td>Europe</td>\n",
       "    </tr>\n",
       "    <tr>\n",
       "      <th>49067</th>\n",
       "      <td>NaN</td>\n",
       "      <td>Lesotho</td>\n",
       "      <td>-29.610000</td>\n",
       "      <td>28.233600</td>\n",
       "      <td>2020-07-27</td>\n",
       "      <td>505</td>\n",
       "      <td>12</td>\n",
       "      <td>128</td>\n",
       "      <td>365</td>\n",
       "      <td>Africa</td>\n",
       "    </tr>\n",
       "  </tbody>\n",
       "</table>\n",
       "<p>49068 rows × 10 columns</p>\n",
       "</div>"
      ],
      "text/plain": [
       "      Province/State         Country/Region        Lat       Long        Date  \\\n",
       "0                NaN            Afghanistan  33.939110  67.709953  2020-01-22   \n",
       "1                NaN                Albania  41.153300  20.168300  2020-01-22   \n",
       "2                NaN                Algeria  28.033900   1.659600  2020-01-22   \n",
       "3                NaN                Andorra  42.506300   1.521800  2020-01-22   \n",
       "4                NaN                 Angola -11.202700  17.873900  2020-01-22   \n",
       "...              ...                    ...        ...        ...         ...   \n",
       "49063            NaN  Sao Tome and Principe   0.186400   6.613100  2020-07-27   \n",
       "49064            NaN                  Yemen  15.552727  48.516388  2020-07-27   \n",
       "49065            NaN                Comoros -11.645500  43.333300  2020-07-27   \n",
       "49066            NaN             Tajikistan  38.861000  71.276100  2020-07-27   \n",
       "49067            NaN                Lesotho -29.610000  28.233600  2020-07-27   \n",
       "\n",
       "       Confirmed  Deaths  Recovered  Active             WHO Region  \n",
       "0              0       0          0       0  Eastern Mediterranean  \n",
       "1              0       0          0       0                 Europe  \n",
       "2              0       0          0       0                 Africa  \n",
       "3              0       0          0       0                 Europe  \n",
       "4              0       0          0       0                 Africa  \n",
       "...          ...     ...        ...     ...                    ...  \n",
       "49063        865      14        734     117                 Africa  \n",
       "49064       1691     483        833     375  Eastern Mediterranean  \n",
       "49065        354       7        328      19                 Africa  \n",
       "49066       7235      60       6028    1147                 Europe  \n",
       "49067        505      12        128     365                 Africa  \n",
       "\n",
       "[49068 rows x 10 columns]"
      ]
     },
     "execution_count": 3,
     "metadata": {},
     "output_type": "execute_result"
    }
   ],
   "source": [
    "covid_df"
   ]
  },
  {
   "cell_type": "markdown",
   "id": "95ee6fda",
   "metadata": {},
   "source": [
    "#### Melihat korelasi antar data\n",
    "\n",
    "Pandas dataframe.corr() digunakan untuk menemukan korelasi berpasangan dari semua kolom dalam Pandas DataFrame di Python. Setiap nilai NaN akan secara otomatis tidak diikutsertakan. Sebuah korelasi yang bagus bergantung pada penggunaannya, namun bisa dikatakan korelasi yang baik memiliki nilai setidaknya 0,6 atau -0,6."
   ]
  },
  {
   "cell_type": "code",
   "execution_count": 4,
   "id": "243e2090",
   "metadata": {},
   "outputs": [
    {
     "data": {
      "text/html": [
       "<div>\n",
       "<style scoped>\n",
       "    .dataframe tbody tr th:only-of-type {\n",
       "        vertical-align: middle;\n",
       "    }\n",
       "\n",
       "    .dataframe tbody tr th {\n",
       "        vertical-align: top;\n",
       "    }\n",
       "\n",
       "    .dataframe thead th {\n",
       "        text-align: right;\n",
       "    }\n",
       "</style>\n",
       "<table border=\"1\" class=\"dataframe\">\n",
       "  <thead>\n",
       "    <tr style=\"text-align: right;\">\n",
       "      <th></th>\n",
       "      <th>Lat</th>\n",
       "      <th>Long</th>\n",
       "      <th>Confirmed</th>\n",
       "      <th>Deaths</th>\n",
       "      <th>Recovered</th>\n",
       "      <th>Active</th>\n",
       "    </tr>\n",
       "  </thead>\n",
       "  <tbody>\n",
       "    <tr>\n",
       "      <th>Lat</th>\n",
       "      <td>1.000000</td>\n",
       "      <td>-0.127259</td>\n",
       "      <td>0.036665</td>\n",
       "      <td>0.070040</td>\n",
       "      <td>0.015329</td>\n",
       "      <td>0.044392</td>\n",
       "    </tr>\n",
       "    <tr>\n",
       "      <th>Long</th>\n",
       "      <td>-0.127259</td>\n",
       "      <td>1.000000</td>\n",
       "      <td>-0.078911</td>\n",
       "      <td>-0.101340</td>\n",
       "      <td>-0.052391</td>\n",
       "      <td>-0.085688</td>\n",
       "    </tr>\n",
       "    <tr>\n",
       "      <th>Confirmed</th>\n",
       "      <td>0.036665</td>\n",
       "      <td>-0.078911</td>\n",
       "      <td>1.000000</td>\n",
       "      <td>0.912361</td>\n",
       "      <td>0.895506</td>\n",
       "      <td>0.950255</td>\n",
       "    </tr>\n",
       "    <tr>\n",
       "      <th>Deaths</th>\n",
       "      <td>0.070040</td>\n",
       "      <td>-0.101340</td>\n",
       "      <td>0.912361</td>\n",
       "      <td>1.000000</td>\n",
       "      <td>0.763090</td>\n",
       "      <td>0.891858</td>\n",
       "    </tr>\n",
       "    <tr>\n",
       "      <th>Recovered</th>\n",
       "      <td>0.015329</td>\n",
       "      <td>-0.052391</td>\n",
       "      <td>0.895506</td>\n",
       "      <td>0.763090</td>\n",
       "      <td>1.000000</td>\n",
       "      <td>0.713088</td>\n",
       "    </tr>\n",
       "    <tr>\n",
       "      <th>Active</th>\n",
       "      <td>0.044392</td>\n",
       "      <td>-0.085688</td>\n",
       "      <td>0.950255</td>\n",
       "      <td>0.891858</td>\n",
       "      <td>0.713088</td>\n",
       "      <td>1.000000</td>\n",
       "    </tr>\n",
       "  </tbody>\n",
       "</table>\n",
       "</div>"
      ],
      "text/plain": [
       "                Lat      Long  Confirmed    Deaths  Recovered    Active\n",
       "Lat        1.000000 -0.127259   0.036665  0.070040   0.015329  0.044392\n",
       "Long      -0.127259  1.000000  -0.078911 -0.101340  -0.052391 -0.085688\n",
       "Confirmed  0.036665 -0.078911   1.000000  0.912361   0.895506  0.950255\n",
       "Deaths     0.070040 -0.101340   0.912361  1.000000   0.763090  0.891858\n",
       "Recovered  0.015329 -0.052391   0.895506  0.763090   1.000000  0.713088\n",
       "Active     0.044392 -0.085688   0.950255  0.891858   0.713088  1.000000"
      ]
     },
     "execution_count": 4,
     "metadata": {},
     "output_type": "execute_result"
    }
   ],
   "source": [
    "covid_df.corr()"
   ]
  },
  {
   "cell_type": "markdown",
   "id": "f5587115",
   "metadata": {},
   "source": [
    "### Menampilkan data Country/Region dengan jumlah pasien aktif, terkonfirmasi, dan kematian terbanyak"
   ]
  },
  {
   "cell_type": "code",
   "execution_count": 5,
   "id": "e140eb0a",
   "metadata": {},
   "outputs": [
    {
     "data": {
      "text/html": [
       "<div>\n",
       "<style scoped>\n",
       "    .dataframe tbody tr th:only-of-type {\n",
       "        vertical-align: middle;\n",
       "    }\n",
       "\n",
       "    .dataframe tbody tr th {\n",
       "        vertical-align: top;\n",
       "    }\n",
       "\n",
       "    .dataframe thead th {\n",
       "        text-align: right;\n",
       "    }\n",
       "</style>\n",
       "<table border=\"1\" class=\"dataframe\">\n",
       "  <thead>\n",
       "    <tr style=\"text-align: right;\">\n",
       "      <th></th>\n",
       "      <th>Country/Region</th>\n",
       "      <th>Active</th>\n",
       "      <th>Confirmed</th>\n",
       "      <th>Deaths</th>\n",
       "    </tr>\n",
       "  </thead>\n",
       "  <tbody>\n",
       "    <tr>\n",
       "      <th>173</th>\n",
       "      <td>US</td>\n",
       "      <td>156981121</td>\n",
       "      <td>224345948</td>\n",
       "      <td>11011411</td>\n",
       "    </tr>\n",
       "    <tr>\n",
       "      <th>23</th>\n",
       "      <td>Brazil</td>\n",
       "      <td>31094060</td>\n",
       "      <td>89524967</td>\n",
       "      <td>3938034</td>\n",
       "    </tr>\n",
       "    <tr>\n",
       "      <th>177</th>\n",
       "      <td>United Kingdom</td>\n",
       "      <td>22624595</td>\n",
       "      <td>26748587</td>\n",
       "      <td>3997775</td>\n",
       "    </tr>\n",
       "    <tr>\n",
       "      <th>138</th>\n",
       "      <td>Russia</td>\n",
       "      <td>19668578</td>\n",
       "      <td>45408411</td>\n",
       "      <td>619385</td>\n",
       "    </tr>\n",
       "    <tr>\n",
       "      <th>79</th>\n",
       "      <td>India</td>\n",
       "      <td>15987913</td>\n",
       "      <td>40883464</td>\n",
       "      <td>1111831</td>\n",
       "    </tr>\n",
       "  </tbody>\n",
       "</table>\n",
       "</div>"
      ],
      "text/plain": [
       "     Country/Region     Active  Confirmed    Deaths\n",
       "173              US  156981121  224345948  11011411\n",
       "23           Brazil   31094060   89524967   3938034\n",
       "177  United Kingdom   22624595   26748587   3997775\n",
       "138          Russia   19668578   45408411    619385\n",
       "79            India   15987913   40883464   1111831"
      ]
     },
     "execution_count": 5,
     "metadata": {},
     "output_type": "execute_result"
    }
   ],
   "source": [
    "covid_cases = covid_df.groupby('Country/Region')[['Active', 'Confirmed', 'Deaths']].apply(sum).reset_index()\n",
    "covid_cases = covid_cases.sort_values(by=['Active', 'Confirmed', 'Deaths'], ascending=False)\n",
    "top_five = covid_cases.head(5)\n",
    "\n",
    "top_five"
   ]
  },
  {
   "cell_type": "markdown",
   "id": "3be37404",
   "metadata": {},
   "source": [
    "## Visualisasi data\n",
    "\n",
    "Menampilkan visualisasi 5 negara dengan kasus aktif, terkonfirmasi, dan kematian terbanyak menggunakan Seaborn."
   ]
  },
  {
   "cell_type": "code",
   "execution_count": 6,
   "id": "51b7cf85",
   "metadata": {},
   "outputs": [
    {
     "data": {
      "image/png": "[encoded data removed]",
      "text/plain": [
       "<Figure size 864x576 with 1 Axes>"
      ]
     },
     "metadata": {
      "needs_background": "light"
     },
     "output_type": "display_data"
    }
   ],
   "source": [
    "import seaborn as sns\n",
    "import matplotlib.pyplot as plt\n",
    "\n",
    "melt_data = top_five.melt(id_vars=['Country/Region'], value_vars=['Confirmed', 'Active', 'Deaths'], var_name='Case Type', value_name='Count')\n",
    "\n",
    "plt.figure(figsize=(12, 8))\n",
    "sns.barplot(data=melt_data, x='Country/Region', y='Count', hue='Case Type')\n",
    "plt.title('Comparison of Confirmed, Active, and Death Cases for Top 5 Affected Countries')\n",
    "plt.xticks(rotation=45)\n",
    "plt.tight_layout()\n",
    "plt.show()"
   ]
  },
  {
   "cell_type": "markdown",
   "id": "9bc9cacf",
   "metadata": {},
   "source": [
    "### Melihat apakah ada kolom dengan data yang kosong"
   ]
  },
  {
   "cell_type": "code",
   "execution_count": 7,
   "id": "82b5c0cb",
   "metadata": {},
   "outputs": [
    {
     "data": {
      "text/plain": [
       "Province/State    34404\n",
       "Country/Region        0\n",
       "Lat                   0\n",
       "Long                  0\n",
       "Date                  0\n",
       "Confirmed             0\n",
       "Deaths                0\n",
       "Recovered             0\n",
       "Active                0\n",
       "WHO Region            0\n",
       "dtype: int64"
      ]
     },
     "execution_count": 7,
     "metadata": {},
     "output_type": "execute_result"
    }
   ],
   "source": [
    "covid_df.isnull().sum()"
   ]
  },
  {
   "cell_type": "markdown",
   "id": "b34165ae",
   "metadata": {},
   "source": [
    "### Melakukan pembersihan data dengan drop kolom yang memiliki missing values"
   ]
  },
  {
   "cell_type": "code",
   "execution_count": 8,
   "id": "6c8ea7cf",
   "metadata": {},
   "outputs": [],
   "source": [
    "covid_df = covid_df.drop('Province/State', axis=1)"
   ]
  },
  {
   "cell_type": "code",
   "execution_count": 9,
   "id": "a6d912c9",
   "metadata": {},
   "outputs": [
    {
     "data": {
      "text/plain": [
       "(49068, 9)"
      ]
     },
     "execution_count": 9,
     "metadata": {},
     "output_type": "execute_result"
    }
   ],
   "source": [
    "covid_df.shape"
   ]
  },
  {
   "cell_type": "markdown",
   "id": "f989d700",
   "metadata": {},
   "source": [
    "### Melakukan encoder data\n",
    "\n",
    "Encoder dilakukan untuk mengubah kolom kategoris menjadi kolom numerik sehingga dapat disesuaikan dengan model pembelajaran mesin yang hanya mengambil data numerik."
   ]
  },
  {
   "cell_type": "code",
   "execution_count": 10,
   "id": "35964315",
   "metadata": {},
   "outputs": [],
   "source": [
    "from sklearn.preprocessing import LabelEncoder"
   ]
  },
  {
   "cell_type": "code",
   "execution_count": 11,
   "id": "deb643fe",
   "metadata": {},
   "outputs": [],
   "source": [
    "label_encoder_country = LabelEncoder()\n",
    "label_encoder_province = LabelEncoder()\n",
    "label_encoder_region = LabelEncoder()\n",
    "\n",
    "covid_df['Country/Region'] = label_encoder_country.fit_transform(covid_df['Country/Region'])\n",
    "covid_df['WHO Region'] = label_encoder_region.fit_transform(covid_df['WHO Region'])"
   ]
  },
  {
   "cell_type": "markdown",
   "id": "be07d37c",
   "metadata": {},
   "source": [
    "### Mengubah kolom Date menjadi format datetime"
   ]
  },
  {
   "cell_type": "code",
   "execution_count": 12,
   "id": "c033a3e3",
   "metadata": {},
   "outputs": [],
   "source": [
    "covid_df['Date'] = pd.to_datetime(covid_df['Date'])"
   ]
  },
  {
   "cell_type": "markdown",
   "id": "8ed462b8",
   "metadata": {},
   "source": [
    "#### Membuat fitur baru dari kolom Date"
   ]
  },
  {
   "cell_type": "code",
   "execution_count": 13,
   "id": "11776f6c",
   "metadata": {},
   "outputs": [],
   "source": [
    "covid_df['Day'] = covid_df['Date'].dt.day\n",
    "covid_df['Month'] = covid_df['Date'].dt.month\n",
    "covid_df['Year'] = covid_df['Date'].dt.year"
   ]
  },
  {
   "cell_type": "markdown",
   "id": "3e51db6c",
   "metadata": {},
   "source": [
    "### Memilih target prediksi"
   ]
  },
  {
   "cell_type": "code",
   "execution_count": 14,
   "id": "524fd26a",
   "metadata": {},
   "outputs": [
    {
     "data": {
      "text/plain": [
       "0           0\n",
       "1           0\n",
       "2           0\n",
       "3           0\n",
       "4           0\n",
       "         ... \n",
       "49063     865\n",
       "49064    1691\n",
       "49065     354\n",
       "49066    7235\n",
       "49067     505\n",
       "Name: Confirmed, Length: 49068, dtype: int64"
      ]
     },
     "execution_count": 14,
     "metadata": {},
     "output_type": "execute_result"
    }
   ],
   "source": [
    "y = covid_df['Confirmed']\n",
    "y"
   ]
  },
  {
   "cell_type": "markdown",
   "id": "d4434686",
   "metadata": {},
   "source": [
    "### Memilih fitur"
   ]
  },
  {
   "cell_type": "code",
   "execution_count": 15,
   "id": "df323c33",
   "metadata": {},
   "outputs": [
    {
     "data": {
      "text/html": [
       "<div>\n",
       "<style scoped>\n",
       "    .dataframe tbody tr th:only-of-type {\n",
       "        vertical-align: middle;\n",
       "    }\n",
       "\n",
       "    .dataframe tbody tr th {\n",
       "        vertical-align: top;\n",
       "    }\n",
       "\n",
       "    .dataframe thead th {\n",
       "        text-align: right;\n",
       "    }\n",
       "</style>\n",
       "<table border=\"1\" class=\"dataframe\">\n",
       "  <thead>\n",
       "    <tr style=\"text-align: right;\">\n",
       "      <th></th>\n",
       "      <th>Country/Region</th>\n",
       "      <th>Lat</th>\n",
       "      <th>Long</th>\n",
       "      <th>Day</th>\n",
       "      <th>Month</th>\n",
       "      <th>Year</th>\n",
       "      <th>WHO Region</th>\n",
       "    </tr>\n",
       "  </thead>\n",
       "  <tbody>\n",
       "    <tr>\n",
       "      <th>0</th>\n",
       "      <td>0</td>\n",
       "      <td>33.939110</td>\n",
       "      <td>67.709953</td>\n",
       "      <td>22</td>\n",
       "      <td>1</td>\n",
       "      <td>2020</td>\n",
       "      <td>2</td>\n",
       "    </tr>\n",
       "    <tr>\n",
       "      <th>1</th>\n",
       "      <td>1</td>\n",
       "      <td>41.153300</td>\n",
       "      <td>20.168300</td>\n",
       "      <td>22</td>\n",
       "      <td>1</td>\n",
       "      <td>2020</td>\n",
       "      <td>3</td>\n",
       "    </tr>\n",
       "    <tr>\n",
       "      <th>2</th>\n",
       "      <td>2</td>\n",
       "      <td>28.033900</td>\n",
       "      <td>1.659600</td>\n",
       "      <td>22</td>\n",
       "      <td>1</td>\n",
       "      <td>2020</td>\n",
       "      <td>0</td>\n",
       "    </tr>\n",
       "    <tr>\n",
       "      <th>3</th>\n",
       "      <td>3</td>\n",
       "      <td>42.506300</td>\n",
       "      <td>1.521800</td>\n",
       "      <td>22</td>\n",
       "      <td>1</td>\n",
       "      <td>2020</td>\n",
       "      <td>3</td>\n",
       "    </tr>\n",
       "    <tr>\n",
       "      <th>4</th>\n",
       "      <td>4</td>\n",
       "      <td>-11.202700</td>\n",
       "      <td>17.873900</td>\n",
       "      <td>22</td>\n",
       "      <td>1</td>\n",
       "      <td>2020</td>\n",
       "      <td>0</td>\n",
       "    </tr>\n",
       "    <tr>\n",
       "      <th>...</th>\n",
       "      <td>...</td>\n",
       "      <td>...</td>\n",
       "      <td>...</td>\n",
       "      <td>...</td>\n",
       "      <td>...</td>\n",
       "      <td>...</td>\n",
       "      <td>...</td>\n",
       "    </tr>\n",
       "    <tr>\n",
       "      <th>49063</th>\n",
       "      <td>144</td>\n",
       "      <td>0.186400</td>\n",
       "      <td>6.613100</td>\n",
       "      <td>27</td>\n",
       "      <td>7</td>\n",
       "      <td>2020</td>\n",
       "      <td>0</td>\n",
       "    </tr>\n",
       "    <tr>\n",
       "      <th>49064</th>\n",
       "      <td>184</td>\n",
       "      <td>15.552727</td>\n",
       "      <td>48.516388</td>\n",
       "      <td>27</td>\n",
       "      <td>7</td>\n",
       "      <td>2020</td>\n",
       "      <td>2</td>\n",
       "    </tr>\n",
       "    <tr>\n",
       "      <th>49065</th>\n",
       "      <td>38</td>\n",
       "      <td>-11.645500</td>\n",
       "      <td>43.333300</td>\n",
       "      <td>27</td>\n",
       "      <td>7</td>\n",
       "      <td>2020</td>\n",
       "      <td>0</td>\n",
       "    </tr>\n",
       "    <tr>\n",
       "      <th>49066</th>\n",
       "      <td>165</td>\n",
       "      <td>38.861000</td>\n",
       "      <td>71.276100</td>\n",
       "      <td>27</td>\n",
       "      <td>7</td>\n",
       "      <td>2020</td>\n",
       "      <td>3</td>\n",
       "    </tr>\n",
       "    <tr>\n",
       "      <th>49067</th>\n",
       "      <td>97</td>\n",
       "      <td>-29.610000</td>\n",
       "      <td>28.233600</td>\n",
       "      <td>27</td>\n",
       "      <td>7</td>\n",
       "      <td>2020</td>\n",
       "      <td>0</td>\n",
       "    </tr>\n",
       "  </tbody>\n",
       "</table>\n",
       "<p>49068 rows × 7 columns</p>\n",
       "</div>"
      ],
      "text/plain": [
       "       Country/Region        Lat       Long  Day  Month  Year  WHO Region\n",
       "0                   0  33.939110  67.709953   22      1  2020           2\n",
       "1                   1  41.153300  20.168300   22      1  2020           3\n",
       "2                   2  28.033900   1.659600   22      1  2020           0\n",
       "3                   3  42.506300   1.521800   22      1  2020           3\n",
       "4                   4 -11.202700  17.873900   22      1  2020           0\n",
       "...               ...        ...        ...  ...    ...   ...         ...\n",
       "49063             144   0.186400   6.613100   27      7  2020           0\n",
       "49064             184  15.552727  48.516388   27      7  2020           2\n",
       "49065              38 -11.645500  43.333300   27      7  2020           0\n",
       "49066             165  38.861000  71.276100   27      7  2020           3\n",
       "49067              97 -29.610000  28.233600   27      7  2020           0\n",
       "\n",
       "[49068 rows x 7 columns]"
      ]
     },
     "execution_count": 15,
     "metadata": {},
     "output_type": "execute_result"
    }
   ],
   "source": [
    "features = ['Country/Region', 'Lat', 'Long', 'Day', 'Month', 'Year', 'WHO Region']\n",
    "X = covid_df[features]\n",
    "X"
   ]
  },
  {
   "cell_type": "code",
   "execution_count": 16,
   "id": "ec18605f",
   "metadata": {},
   "outputs": [
    {
     "data": {
      "text/html": [
       "<div>\n",
       "<style scoped>\n",
       "    .dataframe tbody tr th:only-of-type {\n",
       "        vertical-align: middle;\n",
       "    }\n",
       "\n",
       "    .dataframe tbody tr th {\n",
       "        vertical-align: top;\n",
       "    }\n",
       "\n",
       "    .dataframe thead th {\n",
       "        text-align: right;\n",
       "    }\n",
       "</style>\n",
       "<table border=\"1\" class=\"dataframe\">\n",
       "  <thead>\n",
       "    <tr style=\"text-align: right;\">\n",
       "      <th></th>\n",
       "      <th>Country/Region</th>\n",
       "      <th>Lat</th>\n",
       "      <th>Long</th>\n",
       "      <th>Day</th>\n",
       "      <th>Month</th>\n",
       "      <th>Year</th>\n",
       "      <th>WHO Region</th>\n",
       "    </tr>\n",
       "  </thead>\n",
       "  <tbody>\n",
       "    <tr>\n",
       "      <th>count</th>\n",
       "      <td>49068.000000</td>\n",
       "      <td>49068.000000</td>\n",
       "      <td>49068.000000</td>\n",
       "      <td>49068.000000</td>\n",
       "      <td>49068.000000</td>\n",
       "      <td>49068.0</td>\n",
       "      <td>49068.000000</td>\n",
       "    </tr>\n",
       "    <tr>\n",
       "      <th>mean</th>\n",
       "      <td>83.287356</td>\n",
       "      <td>21.433730</td>\n",
       "      <td>23.528236</td>\n",
       "      <td>15.957447</td>\n",
       "      <td>4.281915</td>\n",
       "      <td>2020.0</td>\n",
       "      <td>2.471264</td>\n",
       "    </tr>\n",
       "    <tr>\n",
       "      <th>std</th>\n",
       "      <td>55.394433</td>\n",
       "      <td>24.950320</td>\n",
       "      <td>70.442740</td>\n",
       "      <td>8.770100</td>\n",
       "      <td>1.810241</td>\n",
       "      <td>0.0</td>\n",
       "      <td>1.745328</td>\n",
       "    </tr>\n",
       "    <tr>\n",
       "      <th>min</th>\n",
       "      <td>0.000000</td>\n",
       "      <td>-51.796300</td>\n",
       "      <td>-135.000000</td>\n",
       "      <td>1.000000</td>\n",
       "      <td>1.000000</td>\n",
       "      <td>2020.0</td>\n",
       "      <td>0.000000</td>\n",
       "    </tr>\n",
       "    <tr>\n",
       "      <th>25%</th>\n",
       "      <td>36.000000</td>\n",
       "      <td>7.873054</td>\n",
       "      <td>-15.310100</td>\n",
       "      <td>8.000000</td>\n",
       "      <td>3.000000</td>\n",
       "      <td>2020.0</td>\n",
       "      <td>1.000000</td>\n",
       "    </tr>\n",
       "    <tr>\n",
       "      <th>50%</th>\n",
       "      <td>69.000000</td>\n",
       "      <td>23.634500</td>\n",
       "      <td>21.745300</td>\n",
       "      <td>16.000000</td>\n",
       "      <td>4.000000</td>\n",
       "      <td>2020.0</td>\n",
       "      <td>3.000000</td>\n",
       "    </tr>\n",
       "    <tr>\n",
       "      <th>75%</th>\n",
       "      <td>131.000000</td>\n",
       "      <td>41.204380</td>\n",
       "      <td>80.771797</td>\n",
       "      <td>24.000000</td>\n",
       "      <td>6.000000</td>\n",
       "      <td>2020.0</td>\n",
       "      <td>3.000000</td>\n",
       "    </tr>\n",
       "    <tr>\n",
       "      <th>max</th>\n",
       "      <td>186.000000</td>\n",
       "      <td>71.706900</td>\n",
       "      <td>178.065000</td>\n",
       "      <td>31.000000</td>\n",
       "      <td>7.000000</td>\n",
       "      <td>2020.0</td>\n",
       "      <td>5.000000</td>\n",
       "    </tr>\n",
       "  </tbody>\n",
       "</table>\n",
       "</div>"
      ],
      "text/plain": [
       "       Country/Region           Lat          Long           Day         Month  \\\n",
       "count    49068.000000  49068.000000  49068.000000  49068.000000  49068.000000   \n",
       "mean        83.287356     21.433730     23.528236     15.957447      4.281915   \n",
       "std         55.394433     24.950320     70.442740      8.770100      1.810241   \n",
       "min          0.000000    -51.796300   -135.000000      1.000000      1.000000   \n",
       "25%         36.000000      7.873054    -15.310100      8.000000      3.000000   \n",
       "50%         69.000000     23.634500     21.745300     16.000000      4.000000   \n",
       "75%        131.000000     41.204380     80.771797     24.000000      6.000000   \n",
       "max        186.000000     71.706900    178.065000     31.000000      7.000000   \n",
       "\n",
       "          Year    WHO Region  \n",
       "count  49068.0  49068.000000  \n",
       "mean    2020.0      2.471264  \n",
       "std        0.0      1.745328  \n",
       "min     2020.0      0.000000  \n",
       "25%     2020.0      1.000000  \n",
       "50%     2020.0      3.000000  \n",
       "75%     2020.0      3.000000  \n",
       "max     2020.0      5.000000  "
      ]
     },
     "execution_count": 16,
     "metadata": {},
     "output_type": "execute_result"
    }
   ],
   "source": [
    "X.describe()"
   ]
  },
  {
   "cell_type": "markdown",
   "id": "b17d921c",
   "metadata": {},
   "source": [
    "### Membangun model\n",
    "\n",
    "Menggunakan Decision Tree Regressor"
   ]
  },
  {
   "cell_type": "code",
   "execution_count": 17,
   "id": "63572c48",
   "metadata": {},
   "outputs": [],
   "source": [
    "from sklearn.tree import DecisionTreeRegressor"
   ]
  },
  {
   "cell_type": "markdown",
   "id": "9e430060",
   "metadata": {},
   "source": [
    "#### Konfigurasi model"
   ]
  },
  {
   "cell_type": "code",
   "execution_count": 18,
   "id": "348d37a9",
   "metadata": {},
   "outputs": [],
   "source": [
    "covid_model = DecisionTreeRegressor(random_state=1)"
   ]
  },
  {
   "cell_type": "markdown",
   "id": "0f6b0bbb",
   "metadata": {},
   "source": [
    "#### Training model"
   ]
  },
  {
   "cell_type": "code",
   "execution_count": 19,
   "id": "f31d503e",
   "metadata": {},
   "outputs": [
    {
     "data": {
      "text/plain": [
       "DecisionTreeRegressor(random_state=1)"
      ]
     },
     "execution_count": 19,
     "metadata": {},
     "output_type": "execute_result"
    }
   ],
   "source": [
    "covid_model.fit(X, y)"
   ]
  },
  {
   "cell_type": "markdown",
   "id": "fc980801",
   "metadata": {},
   "source": [
    "#### Melakukan prediksi"
   ]
  },
  {
   "cell_type": "code",
   "execution_count": 20,
   "id": "25b0b7aa",
   "metadata": {},
   "outputs": [
    {
     "data": {
      "text/plain": [
       "array([0., 0., 0., 0., 0.])"
      ]
     },
     "execution_count": 20,
     "metadata": {},
     "output_type": "execute_result"
    }
   ],
   "source": [
    "covid_model.predict(X.head())"
   ]
  },
  {
   "cell_type": "code",
   "execution_count": 21,
   "id": "02cad70c",
   "metadata": {},
   "outputs": [
    {
     "data": {
      "text/html": [
       "<div>\n",
       "<style scoped>\n",
       "    .dataframe tbody tr th:only-of-type {\n",
       "        vertical-align: middle;\n",
       "    }\n",
       "\n",
       "    .dataframe tbody tr th {\n",
       "        vertical-align: top;\n",
       "    }\n",
       "\n",
       "    .dataframe thead th {\n",
       "        text-align: right;\n",
       "    }\n",
       "</style>\n",
       "<table border=\"1\" class=\"dataframe\">\n",
       "  <thead>\n",
       "    <tr style=\"text-align: right;\">\n",
       "      <th></th>\n",
       "      <th>Country/Region</th>\n",
       "      <th>Lat</th>\n",
       "      <th>Long</th>\n",
       "      <th>Day</th>\n",
       "      <th>Month</th>\n",
       "      <th>Year</th>\n",
       "      <th>WHO Region</th>\n",
       "    </tr>\n",
       "  </thead>\n",
       "  <tbody>\n",
       "    <tr>\n",
       "      <th>0</th>\n",
       "      <td>0</td>\n",
       "      <td>33.93911</td>\n",
       "      <td>67.709953</td>\n",
       "      <td>22</td>\n",
       "      <td>1</td>\n",
       "      <td>2020</td>\n",
       "      <td>2</td>\n",
       "    </tr>\n",
       "    <tr>\n",
       "      <th>1</th>\n",
       "      <td>1</td>\n",
       "      <td>41.15330</td>\n",
       "      <td>20.168300</td>\n",
       "      <td>22</td>\n",
       "      <td>1</td>\n",
       "      <td>2020</td>\n",
       "      <td>3</td>\n",
       "    </tr>\n",
       "    <tr>\n",
       "      <th>2</th>\n",
       "      <td>2</td>\n",
       "      <td>28.03390</td>\n",
       "      <td>1.659600</td>\n",
       "      <td>22</td>\n",
       "      <td>1</td>\n",
       "      <td>2020</td>\n",
       "      <td>0</td>\n",
       "    </tr>\n",
       "    <tr>\n",
       "      <th>3</th>\n",
       "      <td>3</td>\n",
       "      <td>42.50630</td>\n",
       "      <td>1.521800</td>\n",
       "      <td>22</td>\n",
       "      <td>1</td>\n",
       "      <td>2020</td>\n",
       "      <td>3</td>\n",
       "    </tr>\n",
       "    <tr>\n",
       "      <th>4</th>\n",
       "      <td>4</td>\n",
       "      <td>-11.20270</td>\n",
       "      <td>17.873900</td>\n",
       "      <td>22</td>\n",
       "      <td>1</td>\n",
       "      <td>2020</td>\n",
       "      <td>0</td>\n",
       "    </tr>\n",
       "  </tbody>\n",
       "</table>\n",
       "</div>"
      ],
      "text/plain": [
       "   Country/Region       Lat       Long  Day  Month  Year  WHO Region\n",
       "0               0  33.93911  67.709953   22      1  2020           2\n",
       "1               1  41.15330  20.168300   22      1  2020           3\n",
       "2               2  28.03390   1.659600   22      1  2020           0\n",
       "3               3  42.50630   1.521800   22      1  2020           3\n",
       "4               4 -11.20270  17.873900   22      1  2020           0"
      ]
     },
     "execution_count": 21,
     "metadata": {},
     "output_type": "execute_result"
    }
   ],
   "source": [
    "X.head()"
   ]
  },
  {
   "cell_type": "code",
   "execution_count": 22,
   "id": "d7656e4f",
   "metadata": {},
   "outputs": [
    {
     "data": {
      "text/plain": [
       "0    0\n",
       "1    0\n",
       "2    0\n",
       "3    0\n",
       "4    0\n",
       "Name: Confirmed, dtype: int64"
      ]
     },
     "execution_count": 22,
     "metadata": {},
     "output_type": "execute_result"
    }
   ],
   "source": [
    "y.head()"
   ]
  },
  {
   "cell_type": "markdown",
   "id": "1acccc25",
   "metadata": {},
   "source": [
    "## Evaluasi model"
   ]
  },
  {
   "cell_type": "markdown",
   "id": "2012b124",
   "metadata": {},
   "source": [
    "### Importing evaluation metric (mean_absolute_error)"
   ]
  },
  {
   "cell_type": "code",
   "execution_count": 23,
   "id": "1c02bb7e",
   "metadata": {},
   "outputs": [],
   "source": [
    "from sklearn.metrics import mean_absolute_error"
   ]
  },
  {
   "cell_type": "code",
   "execution_count": 24,
   "id": "63ff6fb5",
   "metadata": {},
   "outputs": [
    {
     "data": {
      "text/plain": [
       "0.0"
      ]
     },
     "execution_count": 24,
     "metadata": {},
     "output_type": "execute_result"
    }
   ],
   "source": [
    "y_hat = covid_model.predict(X)\n",
    "mean_absolute_error(y, y_hat)"
   ]
  },
  {
   "cell_type": "markdown",
   "id": "0d28aa9a",
   "metadata": {},
   "source": [
    "### Training dan Testing dataset"
   ]
  },
  {
   "cell_type": "code",
   "execution_count": 25,
   "id": "b4fc822f",
   "metadata": {},
   "outputs": [],
   "source": [
    "from sklearn.model_selection import train_test_split"
   ]
  },
  {
   "cell_type": "markdown",
   "id": "bd83f885",
   "metadata": {},
   "source": [
    "#### Membagi dataset menjadi dua bagian"
   ]
  },
  {
   "cell_type": "code",
   "execution_count": 26,
   "id": "4c0c46aa",
   "metadata": {},
   "outputs": [],
   "source": [
    "X_train, X_test, y_train, y_test = train_test_split(X, y, random_state=1, train_size=0.7)"
   ]
  },
  {
   "cell_type": "markdown",
   "id": "b897caab",
   "metadata": {},
   "source": [
    "#### Konfigurasi dan training model"
   ]
  },
  {
   "cell_type": "code",
   "execution_count": 27,
   "id": "15cfe20c",
   "metadata": {},
   "outputs": [
    {
     "data": {
      "text/plain": [
       "DecisionTreeRegressor(random_state=1)"
      ]
     },
     "execution_count": 27,
     "metadata": {},
     "output_type": "execute_result"
    }
   ],
   "source": [
    "covid_model = DecisionTreeRegressor(random_state=1)\n",
    "covid_model.fit(X_train, y_train)"
   ]
  },
  {
   "cell_type": "markdown",
   "id": "f78477cc",
   "metadata": {},
   "source": [
    "#### Evaluasi model"
   ]
  },
  {
   "cell_type": "code",
   "execution_count": 28,
   "id": "a85241b3",
   "metadata": {},
   "outputs": [
    {
     "data": {
      "text/plain": [
       "393.62590856599417"
      ]
     },
     "execution_count": 28,
     "metadata": {},
     "output_type": "execute_result"
    }
   ],
   "source": [
    "y_hat = covid_model.predict(X_test)\n",
    "mean_absolute_error(y_test, y_hat)"
   ]
  },
  {
   "cell_type": "markdown",
   "id": "4b4099a9",
   "metadata": {},
   "source": [
    "## Optimasi model"
   ]
  },
  {
   "cell_type": "code",
   "execution_count": 29,
   "id": "f871327e",
   "metadata": {},
   "outputs": [],
   "source": [
    "def get_mae(max_leaf_nodes, X_train, X_test, y_train, y_test):\n",
    "    model = DecisionTreeRegressor(max_leaf_nodes=max_leaf_nodes, random_state=0)\n",
    "    model.fit(X_train, y_train)\n",
    "    y_hat = model.predict(X_test)\n",
    "    mae = mean_absolute_error(y_test, y_hat)\n",
    "    return mae"
   ]
  },
  {
   "cell_type": "markdown",
   "id": "6c408a07",
   "metadata": {},
   "source": [
    "Membandingkan MAE dengan beberapa nilai ```max_leaf_nodes``` untuk menemukan jumlah leaf paling optimum"
   ]
  },
  {
   "cell_type": "code",
   "execution_count": 30,
   "id": "de83ae30",
   "metadata": {},
   "outputs": [
    {
     "name": "stdout",
     "output_type": "stream",
     "text": [
      "Max leaf nodes: 5 \t Mean Absolute Error: 21050\n",
      "Max leaf nodes: 50 \t Mean Absolute Error: 9095\n",
      "Max leaf nodes: 500 \t Mean Absolute Error: 1500\n",
      "Max leaf nodes: 5000 \t Mean Absolute Error: 426\n"
     ]
    }
   ],
   "source": [
    "for max_leaf_nodes in [5, 50, 500, 5000]:\n",
    "    leaf_mae = get_mae(max_leaf_nodes, X_train, X_test, y_train, y_test)\n",
    "    print(f'Max leaf nodes: {max_leaf_nodes} \\t Mean Absolute Error: {int(leaf_mae)}')"
   ]
  },
  {
   "cell_type": "markdown",
   "id": "a29172ed",
   "metadata": {},
   "source": [
    "## Evaluasi model dengan Random Forest"
   ]
  },
  {
   "cell_type": "code",
   "execution_count": 31,
   "id": "01408ed4",
   "metadata": {},
   "outputs": [],
   "source": [
    "from sklearn.ensemble import RandomForestRegressor"
   ]
  },
  {
   "cell_type": "code",
   "execution_count": 32,
   "id": "0143218b",
   "metadata": {},
   "outputs": [
    {
     "name": "stdout",
     "output_type": "stream",
     "text": [
      "Mean Absolute Error: 305\n"
     ]
    }
   ],
   "source": [
    "rf_model = RandomForestRegressor(n_estimators=100, random_state=1)\n",
    "rf_model.fit(X_train, y_train)\n",
    "y_hat = rf_model.predict(X_test)\n",
    "print(f'Mean Absolute Error: {int(mean_absolute_error(y_test, y_hat))}')"
   ]
  },
  {
   "cell_type": "markdown",
   "id": "b421b480",
   "metadata": {},
   "source": [
    "### Mengukur accuracy, precision, dan recall score"
   ]
  },
  {
   "cell_type": "markdown",
   "id": "6119b434",
   "metadata": {},
   "source": [
    "Mengukur tingkat keakuratan data prediksi dengan data sebenarnya"
   ]
  },
  {
   "cell_type": "code",
   "execution_count": 33,
   "id": "cb195230",
   "metadata": {},
   "outputs": [],
   "source": [
    "from sklearn.metrics import accuracy_score"
   ]
  },
  {
   "cell_type": "code",
   "execution_count": 34,
   "id": "11509917",
   "metadata": {},
   "outputs": [
    {
     "data": {
      "text/plain": [
       "0.5039059846477821"
      ]
     },
     "execution_count": 34,
     "metadata": {},
     "output_type": "execute_result"
    }
   ],
   "source": [
    "y_pred = covid_model.predict(X_test)\n",
    "accuracy_score(y_test, y_pred)"
   ]
  },
  {
   "cell_type": "markdown",
   "id": "5486941f",
   "metadata": {},
   "source": [
    "Mengukur tingkat presisi data prediksi dengan data sebenarnya"
   ]
  },
  {
   "cell_type": "code",
   "execution_count": 35,
   "id": "fa9d55b5",
   "metadata": {},
   "outputs": [],
   "source": [
    "from sklearn.metrics import precision_score, recall_score, classification_report"
   ]
  },
  {
   "cell_type": "code",
   "execution_count": 36,
   "id": "1b6c8c29",
   "metadata": {},
   "outputs": [
    {
     "data": {
      "text/plain": [
       "0.5039059846477821"
      ]
     },
     "execution_count": 36,
     "metadata": {},
     "output_type": "execute_result"
    }
   ],
   "source": [
    "precision_score(y_test, y_pred, average='micro')"
   ]
  },
  {
   "cell_type": "markdown",
   "id": "5897316a",
   "metadata": {},
   "source": [
    "Mengukur tingkat recall data prediksi dengan data sebenarnya"
   ]
  },
  {
   "cell_type": "code",
   "execution_count": 37,
   "id": "dfa8924a",
   "metadata": {},
   "outputs": [
    {
     "data": {
      "text/plain": [
       "0.5039059846477821"
      ]
     },
     "execution_count": 37,
     "metadata": {},
     "output_type": "execute_result"
    }
   ],
   "source": [
    "recall_score(y_test, y_pred, average='micro')"
   ]
  },
  {
   "cell_type": "markdown",
   "id": "6bc7191d",
   "metadata": {},
   "source": [
    "Menampilkan hasil classification report"
   ]
  },
  {
   "cell_type": "code",
   "execution_count": 38,
   "id": "02d37593",
   "metadata": {},
   "outputs": [
    {
     "name": "stdout",
     "output_type": "stream",
     "text": [
      "Classification report : \n",
      "               precision    recall  f1-score   support\n",
      "\n",
      "           1       0.79      0.81      0.80       360\n",
      "           0       0.98      0.97      0.97      3077\n",
      "\n",
      "   micro avg       0.96      0.96      0.96      3437\n",
      "   macro avg       0.88      0.89      0.89      3437\n",
      "weighted avg       0.96      0.96      0.96      3437\n",
      "\n"
     ]
    }
   ],
   "source": [
    "matrix = classification_report(y_test, y_pred, labels=[1,0])\n",
    "print('Classification report : \\n', matrix)"
   ]
  }
 ],
 "metadata": {
  "kernelspec": {
   "display_name": "Python 3 (ipykernel)",
   "language": "python",
   "name": "python3"
  },
  "language_info": {
   "codemirror_mode": {
    "name": "ipython",
    "version": 3
   },
   "file_extension": ".py",
   "mimetype": "text/x-python",
   "name": "python",
   "nbconvert_exporter": "python",
   "pygments_lexer": "ipython3",
   "version": "3.9.7"
  }
 },
 "nbformat": 4,
 "nbformat_minor": 5
}
